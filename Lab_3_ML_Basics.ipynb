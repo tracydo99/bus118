{
  "nbformat": 4,
  "nbformat_minor": 0,
  "metadata": {
    "colab": {
      "provenance": [],
      "authorship_tag": "ABX9TyPQJAylmcjW97RSsNmbsHnR",
      "include_colab_link": true
    },
    "kernelspec": {
      "name": "python3",
      "display_name": "Python 3"
    },
    "language_info": {
      "name": "python"
    }
  },
  "cells": [
    {
      "cell_type": "markdown",
      "metadata": {
        "id": "view-in-github",
        "colab_type": "text"
      },
      "source": [
        "<a href=\"https://colab.research.google.com/github/tracydo99/bus118/blob/main/Lab_3_ML_Basics.ipynb\" target=\"_parent\"><img src=\"https://colab.research.google.com/assets/colab-badge.svg\" alt=\"Open In Colab\"/></a>"
      ]
    },
    {
      "cell_type": "code",
      "execution_count": 32,
      "metadata": {
        "colab": {
          "base_uri": "https://localhost:8080/"
        },
        "id": "9_4uI-sSI5LB",
        "outputId": "55df7661-b927-4be7-bac6-7dd5df111e8c"
      },
      "outputs": [
        {
          "output_type": "stream",
          "name": "stdout",
          "text": [
            "Predicted price for a 2000 sq ft house in Downtown: $650,000.00\n",
            "\n",
            "Model Coefficients:\n",
            "location_Almaden Valley: 846428.57\n",
            "location_Cambrian Park: 521428.57\n",
            "location_Downtown: -853571.43\n",
            "location_East San Jose: -403571.43\n",
            "location_North San Jose: 71428.57\n",
            "location_South San Jose: -453571.43\n",
            "location_Willow Glen: 271428.57\n",
            "square_footage: -250.00\n"
          ]
        }
      ],
      "source": [
        "import pandas as pd\n",
        "import numpy as np\n",
        "from sklearn.model_selection import train_test_split\n",
        "from sklearn.linear_model import LinearRegression\n",
        "from sklearn.preprocessing import OneHotEncoder\n",
        "from sklearn.compose import ColumnTransformer\n",
        "from sklearn.pipeline import Pipeline\n",
        "\n",
        "# Generate sample data\n",
        "data = {\n",
        "'square_footage': [800, 1300, 1800, 1400, 2200, 1700, 2500, 2100, 1600, 2400],\n",
        "'location': ['Downtown', 'Willow Glen', 'South San Jose', 'East San Jose', 'Almaden Valley', 'North San Jose', 'Cambrian Park', 'Willow Glen', 'South San Jose', 'Almaden Valley'],\n",
        "'price': [950000, 1700000, 1100000, 1250000, 2300000, 1650000, 1900000, 1750000, 1150000, 2250000]\n",
        "}\n",
        "df = pd.DataFrame(data)\n",
        "\n",
        "# Features and target\n",
        "X = df[['square_footage', 'location']]\n",
        "y = df['price']\n",
        "\n",
        "# Preprocessing: One-hot encode the location column\n",
        "preprocessor = ColumnTransformer(\n",
        "transformers=[\n",
        "('location', OneHotEncoder(sparse_output=False), ['location'])\n",
        "], remainder='passthrough')\n",
        "\n",
        "# Create pipeline with preprocessing and model\n",
        "model = Pipeline(steps=[\n",
        "('preprocessor', preprocessor),\n",
        "('regressor', LinearRegression())\n",
        "])\n",
        "\n",
        "# Split data\n",
        "X_train, X_test, y_train, y_test = train_test_split(X, y, test_size=0.2,\n",
        "random_state=42)\n",
        "\n",
        "# Train model\n",
        "model.fit(X_train, y_train)\n",
        "\n",
        "# Make prediction for a new house: 2000 sq ft in Downtown\n",
        "new_house = pd.DataFrame({'square_footage': [2000], 'location': ['Downtown']})\n",
        "predicted_price = model.predict(new_house)\n",
        "print((f\"Predicted price for a 2000 sq ft house in Downtown: $\"\n",
        "f\"{predicted_price[0]:,.2f}\"))\n",
        "\n",
        "# Display model coefficients\n",
        "feature_names = (model.named_steps['preprocessor']\n",
        ".named_transformers_['location']\n",
        ".get_feature_names_out(['location'])).tolist() + \\\n",
        "['square_footage']\n",
        "coefficients = model.named_steps['regressor'].coef_\n",
        "print(\"\\nModel Coefficients:\")\n",
        "for feature, coef in zip(feature_names, coefficients):\n",
        "    print(f\"{feature}: {coef:.2f}\")"
      ]
    },
    {
      "cell_type": "markdown",
      "source": [
        "I used ChatGPT to gather accurate/realistic data from Zillow and Redfin of neighborhoods in San Jose."
      ],
      "metadata": {
        "id": "qEHFs1HLQ9_j"
      }
    },
    {
      "cell_type": "code",
      "source": [
        "import pandas as pd\n",
        "import numpy as np\n",
        "from sklearn.model_selection import train_test_split\n",
        "from sklearn.linear_model import LogisticRegression\n",
        "from sklearn.preprocessing import StandardScaler, OneHotEncoder\n",
        "from sklearn.compose import ColumnTransformer\n",
        "from sklearn.pipeline import Pipeline\n",
        "\n",
        "# Generate sample customer data\n",
        "data = {\n",
        "    'age': [22, 31, 49, 27, 58, 39, 44, 26, 51, 35, 42, 30],\n",
        "    'monthly_usage_hours': [8, 44, 18, 12, 66, 28, 23, 10, 59, 38, 20, 33],\n",
        "    'purchase_amount': [75, 240, 140, 95, 320, 210, 165, 85, 290, 205, 155, 180],\n",
        "    'customer_service_calls': [6, 2, 7, 4, 1, 3, 5, 5, 0, 2, 4, 3],\n",
        "    'region': ['West', 'South', 'East', 'North', 'South', 'West', 'East', 'North', 'South', 'North', 'West', 'East'],\n",
        "    # 1 = churned, 0 = not churned\n",
        "    'churn': [1, 0, 1, 1, 0, 0, 1, 1, 0, 0, 1, 0]\n",
        "}\n",
        "df = pd.DataFrame(data)\n",
        "\n",
        "# Features and target\n",
        "X = df[['age', 'monthly_usage_hours', 'purchase_amount', 'customer_service_calls', 'region']]\n",
        "y = df['churn']\n",
        "\n",
        "# Preprocessing: Scale numerical features and one-hot encode categorical features\n",
        "preprocessor = ColumnTransformer(\n",
        "    transformers=[\n",
        "    ('num', StandardScaler(), ['age', 'monthly_usage_hours', 'purchase_amount', 'customer_service_calls']),\n",
        "    ('cat', OneHotEncoder(sparse_output=False), ['region'])\n",
        "])\n",
        "\n",
        "# Create pipeline with preprocessing and model\n",
        "model = Pipeline(steps=[\n",
        "    ('preprocessor', preprocessor),\n",
        "    ('classifier', LogisticRegression(random_state=42))\n",
        "])\n",
        "\n",
        "# Split data\n",
        "X_train, X_test, y_train, y_test = train_test_split(X, y, test_size=0.2, random_state=42)\n",
        "\n",
        "# Train model\n",
        "model.fit(X_train, y_train)\n",
        "\n",
        "# Predict churn probability for a new customer\n",
        "new_customer = pd.DataFrame({'age': [30], 'monthly_usage_hours': [20], 'purchase_amount': [150], 'customer_service_calls': [3], 'region': ['North']})\n",
        "churn_probability = model.predict_proba(new_customer)[0][1] #Probability of churn\n",
        "\n",
        "# Classify based on threshold (0.5)\n",
        "threshold = 0.5\n",
        "churn_prediction = int(churn_probability > threshold)\n",
        "print(f\"Churn Probability for new customer: {churn_probability:.2f}\")\n",
        "print(f\"Churn Prediction (1 = churn, 0 = no churn): {churn_prediction}\")\n",
        "\n",
        "# Display model coefficients\n",
        "num_feature_names = ['age', 'monthly_usage_hours', 'purchase_amount', 'customer_service_calls']\n",
        "cat_feature_names = (\n",
        "    model.named_steps['preprocessor']\n",
        "         .named_transformers_['cat']\n",
        "         .get_feature_names_out(['region'])\n",
        "         .tolist()\n",
        ")\n",
        "feature_names_ordered = num_feature_names + cat_feature_names\n",
        "coefficients = model.named_steps['classifier'].coef_[0]\n",
        "\n",
        "print(\"\\nModel Coefficients:\")\n",
        "for feature, coef in zip(feature_names_ordered, coefficients):\n",
        "    print(f\"{feature}: {coef:.3f}\")\n",
        "\n",
        "print(f\"\\nIntercept: {model.named_steps['classifier'].intercept_[0]:.3f}\")"
      ],
      "metadata": {
        "colab": {
          "base_uri": "https://localhost:8080/"
        },
        "id": "Mo7T3fIlKRZl",
        "outputId": "d441f3b3-9b02-47a6-9734-d2adafc41521"
      },
      "execution_count": 33,
      "outputs": [
        {
          "output_type": "stream",
          "name": "stdout",
          "text": [
            "Churn Probability for new customer: 0.57\n",
            "Churn Prediction (1 = churn, 0 = no churn): 1\n",
            "\n",
            "Model Coefficients:\n",
            "age: 0.164\n",
            "monthly_usage_hours: -0.666\n",
            "purchase_amount: -0.729\n",
            "customer_service_calls: 0.825\n",
            "region_East: 0.087\n",
            "region_North: 0.314\n",
            "region_South: -0.137\n",
            "region_West: -0.264\n",
            "\n",
            "Intercept: -0.610\n"
          ]
        }
      ]
    },
    {
      "cell_type": "markdown",
      "source": [
        "I used ChatGPT to generate a longer dataset for the purpose of this assignment. The numbers were chosen to look realistic so the churn labels could be assigned based on plausible patterns."
      ],
      "metadata": {
        "id": "K0YJLF-URuUu"
      }
    },
    {
      "cell_type": "code",
      "source": [
        "import pandas as pd\n",
        "import numpy as np\n",
        "from sklearn.cluster import KMeans\n",
        "from sklearn.preprocessing import StandardScaler\n",
        "import matplotlib.pyplot as plt\n",
        "\n",
        "# Generate sample customer data\n",
        "data = {\n",
        "'annual_spending': [500, 1200, 300, 1500, 800, 200, 1000, 600, 1300, 400, 1800, 750, 220, 950, 1400, 1700, 450, 1250, 700, 1600],\n",
        "'purchase_frequency': [5, 12, 3, 15, 8, 2, 10, 6, 13, 4, 16, 7, 2, 9, 11, 14, 5, 12, 8, 15],\n",
        "'age': [25, 34, 45, 28, 52, 36, 41, 29, 47, 33, 30, 39, 50, 27, 44, 38, 55, 31, 42, 29],\n",
        "'region': ['North', 'South', 'West', 'East', 'South', 'North', 'West', 'East', 'South', 'North', 'West', 'East', 'South', 'North', 'West', 'South', 'East', 'North', 'South', 'West']\n",
        "}\n",
        "df = pd.DataFrame(data)\n",
        "\n",
        "# Preprocess data: Select numerical features and scale them\n",
        "features = ['annual_spending', 'purchase_frequency', 'age']\n",
        "X = df[features]\n",
        "scaler = StandardScaler()\n",
        "X_scaled = scaler.fit_transform(X)\n",
        "\n",
        "# Determine optimal number of clusters using elbow method\n",
        "inertia = []\n",
        "K = range(1, 6)\n",
        "for k in K:\n",
        "    kmeans = KMeans(n_clusters=k, random_state=42)\n",
        "    kmeans.fit(X_scaled)\n",
        "    inertia.append(kmeans.inertia_)\n",
        "\n",
        "# Plot elbow curve\n",
        "plt.figure(figsize=(8, 5))\n",
        "plt.plot(K, inertia, 'bo-')\n",
        "plt.xlabel('Number of Clusters (K)')\n",
        "plt.ylabel('Inertia')\n",
        "plt.title('Elbow Method for Optimal K')\n",
        "plt.savefig('elbow_plot.png')\n",
        "plt.close()\n",
        "\n",
        "# Apply K-Means with optimal K (e.g., 3 based on elbow method)\n",
        "optimal_k = 3\n",
        "kmeans = KMeans(n_clusters=optimal_k, random_state=42)\n",
        "df['cluster'] = kmeans.fit_predict(X_scaled)\n",
        "\n",
        "# Analyze clusters\n",
        "cluster_summary = df.groupby('cluster')[features].mean().round(2)\n",
        "print(\"Cluster Characteristics:\")\n",
        "print(cluster_summary)\n",
        "\n",
        "# Example of targeted strategies\n",
        "for cluster in range(optimal_k):\n",
        "    print(f\"\\nCluster {cluster} Strategy:\")\n",
        "    if cluster_summary.loc[cluster, 'annual_spending'] > 1000:\n",
        "        print((\"High-spending customers: Offer exclusive promotions or loyalty rewards.\"))\n",
        "    elif cluster_summary.loc[cluster, 'purchase_frequency'] > 10:\n",
        "        print(\"Frequent buyers: Provide bulk discounts or subscription plans.\")\n",
        "    else:\n",
        "        print((\"Low-engagement customers: Send personalized re-engagement campaigns.\"))\n",
        "\n",
        "# Save cluster assignments to CSV\n",
        "df.to_csv('customer_segments.csv', index=False)"
      ],
      "metadata": {
        "colab": {
          "base_uri": "https://localhost:8080/"
        },
        "id": "Tu_Z5MbtPK2I",
        "outputId": "8f7228a6-1fea-4723-cfa4-aec47b92cc1f"
      },
      "execution_count": 34,
      "outputs": [
        {
          "output_type": "stream",
          "name": "stdout",
          "text": [
            "Cluster Characteristics:\n",
            "         annual_spending  purchase_frequency    age\n",
            "cluster                                            \n",
            "0                 566.67                5.50  31.50\n",
            "1                1416.67               13.11  35.78\n",
            "2                 494.00                5.20  48.80\n",
            "\n",
            "Cluster 0 Strategy:\n",
            "Low-engagement customers: Send personalized re-engagement campaigns.\n",
            "\n",
            "Cluster 1 Strategy:\n",
            "High-spending customers: Offer exclusive promotions or loyalty rewards.\n",
            "\n",
            "Cluster 2 Strategy:\n",
            "Low-engagement customers: Send personalized re-engagement campaigns.\n"
          ]
        }
      ]
    },
    {
      "cell_type": "markdown",
      "source": [
        "I used ChatGPT to expand the original dataset given, as more rows allow K-means to form clearer clusters and improve segmentation."
      ],
      "metadata": {
        "id": "KGJbTXFtSGm8"
      }
    },
    {
      "cell_type": "code",
      "source": [
        "import pandas as pd\n",
        "from sklearn.linear_model import LinearRegression\n",
        "import matplotlib.pyplot as plt\n",
        "\n",
        "# Load dataset\n",
        "df = pd.read_csv('sales_data.csv')  # Ensure columns: 'month', 'sales'\n",
        "X = df[['month']]\n",
        "y = df['sales']\n",
        "\n",
        "# Train the model\n",
        "model = LinearRegression()\n",
        "model.fit(X, y)\n",
        "\n",
        "# Predict for next 6 months\n",
        "future_months = pd.DataFrame({'month': range(max(df['month'])+1, max(df['month'])+7)})\n",
        "predictions = model.predict(future_months)\n",
        "\n",
        "# Plot results\n",
        "plt.plot(df['month'], y, label='Historical Sales')\n",
        "plt.plot(future_months['month'], predictions, label='Predicted Sales', linestyle='--')\n",
        "plt.xlabel('Month')\n",
        "plt.ylabel('Sales')\n",
        "plt.legend()\n",
        "plt.show()"
      ],
      "metadata": {
        "colab": {
          "base_uri": "https://localhost:8080/",
          "height": 449
        },
        "id": "JjMtrSnNSnpm",
        "outputId": "dbf0c5aa-d87b-4025-e184-611ca0156fdf"
      },
      "execution_count": 39,
      "outputs": [
        {
          "output_type": "display_data",
          "data": {
            "text/plain": [
              "<Figure size 640x480 with 1 Axes>"
            ],
            "image/png": "[encoded data removed]"
          },
          "metadata": {}
        }
      ]
    }
  ]
}