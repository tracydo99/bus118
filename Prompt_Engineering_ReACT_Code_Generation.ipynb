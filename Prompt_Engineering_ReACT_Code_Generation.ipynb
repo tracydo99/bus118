{
  "nbformat": 4,
  "nbformat_minor": 0,
  "metadata": {
    "colab": {
      "provenance": [],
      "authorship_tag": "ABX9TyOSn4HYCS+TDYQjHK1jwoIA",
      "include_colab_link": true
    },
    "kernelspec": {
      "name": "python3",
      "display_name": "Python 3"
    },
    "language_info": {
      "name": "python"
    }
  },
  "cells": [
    {
      "cell_type": "markdown",
      "metadata": {
        "id": "view-in-github",
        "colab_type": "text"
      },
      "source": [
        "<a href=\"https://colab.research.google.com/github/tracydo99/bus118/blob/main/Prompt_Engineering_ReACT_Code_Generation.ipynb\" target=\"_parent\"><img src=\"https://colab.research.google.com/assets/colab-badge.svg\" alt=\"Open In Colab\"/></a>"
      ]
    },
    {
      "cell_type": "code",
      "execution_count": null,
      "metadata": {
        "id": "tWoTDddmVh9m"
      },
      "outputs": [],
      "source": [
        "!pip install --quiet openai\n",
        "\n",
        "import os, re, textwrap, io, sys, traceback\n",
        "from openai import OpenAI\n",
        "\n",
        "os.environ[\"OPENAI_API_KEY\"] = \"#####\"\n",
        "\n",
        "client = OpenAI()\n",
        "MODEL = \"gpt-4o-mini\""
      ]
    },
    {
      "cell_type": "code",
      "source": [
        "def react_solve(task_prompt: str, max_rounds=3):\n",
        "    \"\"\"Reason + Act + Reflect cycle for code generation.\"\"\"\n",
        "    system = \"\"\"You are a careful Python engineer.\n",
        "You always reason first (Plan) then produce a single, executable code block in ```python``` fences.\"\"\"\n",
        "    user = f\"\"\"\n",
        "TASK:\n",
        "{task_prompt}\n",
        "\n",
        "FORMAT:\n",
        "1. \"Plan:\" (2–5 bullet points explaining logic)\n",
        "2. One ```python``` code block that defines the functions, runs tests, and prints results.\n",
        "\"\"\"\n",
        "\n",
        "    for round_idx in range(1, max_rounds + 1):\n",
        "        reply = chat(system, user)\n",
        "        code = extract_python_block(reply)\n",
        "\n",
        "        if not code:\n",
        "            user = \"Please output a valid Python code block only.\"\n",
        "            continue\n",
        "\n",
        "        result = run_user_code(code)\n",
        "\n",
        "        # ✅ Fixed — no reference to stderr\n",
        "        if result[\"ok\"]:\n",
        "            print(f\"✅ Success on round {round_idx}\")\n",
        "            print(\"---- OUTPUT ----\\n\", result[\"stdout\"])\n",
        "            print(\"---- CODE ----\\n\", textwrap.shorten(code, width=800))\n",
        "            return\n",
        "        else:\n",
        "            print(f\"❌ Error round {round_idx}: {result['error']}\")\n",
        "            user = f\"Fix this error and reprint working code:\\n{result['error']}\""
      ],
      "metadata": {
        "id": "hV5n3v5IVsMR"
      },
      "execution_count": null,
      "outputs": []
    },
    {
      "cell_type": "code",
      "source": [
        "task = \"\"\"\n",
        "Write a Python program that converts between Centigrade and Fahrenheit.\n",
        "- Formula 1: F = 32 + C * (180.0 / 100.0)\n",
        "- Formula 2: C = (F - 32) * (100.0 / 180.0)\n",
        "- The program should define c_to_f() and f_to_c().\n",
        "- Print at least three test cases (include one negative temperature).\n",
        "- No user input; just print sample results clearly labeled.\n",
        "\"\"\"\n",
        "react_solve(task)"
      ],
      "metadata": {
        "colab": {
          "base_uri": "https://localhost:8080/"
        },
        "id": "eAaJ8AwHVs66",
        "outputId": "dddce66c-328c-42c7-d91d-1b655efc4ed0"
      },
      "execution_count": null,
      "outputs": [
        {
          "output_type": "stream",
          "name": "stdout",
          "text": [
            "✅ Success on round 1\n",
            "---- OUTPUT ----\n",
            " Centigrade to Fahrenheit:\n",
            "0°C = 32.00°F\n",
            "100°C = 212.00°F\n",
            "-40°C = -40.00°F\n",
            "\n",
            "Fahrenheit to Centigrade:\n",
            "32°F = 0.00°C\n",
            "212°F = 100.00°C\n",
            "-40°F = -40.00°C\n",
            "\n",
            "---- CODE ----\n",
            " def c_to_f(celsius): \"\"\"Convert Centigrade to Fahrenheit.\"\"\" return 32 + celsius * (180.0 / 100.0) def f_to_c(fahrenheit): \"\"\"Convert Fahrenheit to Centigrade.\"\"\" return (fahrenheit - 32) * (100.0 / 180.0) # Test cases test_cases_c_to_f = [0, 100, -40] # 0°C, 100°C, -40°C test_cases_f_to_c = [32, 212, -40] # 32°F, 212°F, -40°F # Print results for Centigrade to Fahrenheit print(\"Centigrade to Fahrenheit:\") for c in test_cases_c_to_f: f = c_to_f(c) print(f\"{c}°C = {f:.2f}°F\") # Print results for Fahrenheit to Centigrade print(\"\\nFahrenheit to Centigrade:\") for f in test_cases_f_to_c: c = f_to_c(f) print(f\"{f}°F = {c:.2f}°C\")\n"
          ]
        }
      ]
    },
    {
      "cell_type": "code",
      "source": [
        "def c_to_f(celsius):\n",
        "    \"\"\"Convert Centigrade to Fahrenheit.\"\"\"\n",
        "    return 32 + celsius * (180.0 / 100.0)\n",
        "\n",
        "def f_to_c(fahrenheit):\n",
        "    \"\"\"Convert Fahrenheit to Centigrade.\"\"\"\n",
        "    return (fahrenheit - 32) * (100.0 / 180.0)\n",
        "\n",
        "# Test cases\n",
        "test_cases_c_to_f = [0, 100, -40]   # 0°C, 100°C, -40°C\n",
        "test_cases_f_to_c = [32, 212, -40]  # 32°F, 212°F, -40°F\n",
        "\n",
        "# Print results for Centigrade to Fahrenheit\n",
        "print(\"Centigrade to Fahrenheit:\")\n",
        "for c in test_cases_c_to_f:\n",
        "    f = c_to_f(c)\n",
        "    print(f\"{c}°C = {f:.2f}°F\")\n",
        "\n",
        "# Print results for Fahrenheit to Centigrade\n",
        "print(\"\\nFahrenheit to Centigrade:\")\n",
        "for f in test_cases_f_to_c:\n",
        "    c = f_to_c(f)\n",
        "    print(f\"{f}°F = {c:.2f}°C\")"
      ],
      "metadata": {
        "colab": {
          "base_uri": "https://localhost:8080/"
        },
        "id": "gpF7AP76cB7V",
        "outputId": "8ecb1611-559d-48b1-c0c5-8c13ea4b9ccb"
      },
      "execution_count": null,
      "outputs": [
        {
          "output_type": "stream",
          "name": "stdout",
          "text": [
            "Centigrade to Fahrenheit:\n",
            "0°C = 32.00°F\n",
            "100°C = 212.00°F\n",
            "-40°C = -40.00°F\n",
            "\n",
            "Fahrenheit to Centigrade:\n",
            "32°F = 0.00°C\n",
            "212°F = 100.00°C\n",
            "-40°F = -40.00°C\n"
          ]
        }
      ]
    }
  ]
}