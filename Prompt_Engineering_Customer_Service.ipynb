{
  "nbformat": 4,
  "nbformat_minor": 0,
  "metadata": {
    "colab": {
      "provenance": [],
      "authorship_tag": "ABX9TyNbaX/f9PD54q+iMYrncwpY",
      "include_colab_link": true
    },
    "kernelspec": {
      "name": "python3",
      "display_name": "Python 3"
    },
    "language_info": {
      "name": "python"
    }
  },
  "cells": [
    {
      "cell_type": "markdown",
      "metadata": {
        "id": "view-in-github",
        "colab_type": "text"
      },
      "source": [
        "<a href=\"https://colab.research.google.com/github/tracydo99/bus118/blob/main/Prompt_Engineering_Customer_Service.ipynb\" target=\"_parent\"><img src=\"https://colab.research.google.com/assets/colab-badge.svg\" alt=\"Open In Colab\"/></a>"
      ]
    },
    {
      "cell_type": "code",
      "source": [
        "!pip install --quiet openai\n",
        "\n",
        "import os\n",
        "from openai import OpenAI\n",
        "os.environ[\"OPENAI_API_KEY\"] = \"#####\"\n",
        "client = OpenAI()\n",
        "MODEL = \"gpt-4o-mini\""
      ],
      "metadata": {
        "id": "10fgn7iVRyJW"
      },
      "execution_count": null,
      "outputs": []
    },
    {
      "cell_type": "code",
      "source": [
        "from datetime import datetime\n",
        "from typing import Dict, Any\n",
        "\n",
        "def call_llm(system: str, user: str) -> str:\n",
        "    resp = client.chat.completions.create(\n",
        "        model=MODEL,\n",
        "        messages=[{\"role\":\"system\",\"content\":system},\n",
        "                  {\"role\":\"user\",\"content\":user}],\n",
        "        temperature=0.2,\n",
        "    )\n",
        "    return resp.choices[0].message.content.strip()\n",
        "\n",
        "Ticket = Dict[str, Any]\n",
        "\n",
        "def step_1_classify_intent(ticket: Ticket) -> Ticket:\n",
        "    system = \"\"\"You are a senior airline customer support triage agent.\n",
        "Classify the customer's request into ONE of:\n",
        "booking, flight_status, change_itinerary, cancel_refund, baggage, seat_assignment,\n",
        "special_assistance, loyalty_program, other.\n",
        "\n",
        "Also extract any entities if present:\n",
        "pnr (record locator), passenger_name, email, phone, flight_number, date,\n",
        "origin_airport, destination_airport, baggage_tag, seat, loyalty_id.\n",
        "\n",
        "Return a tight JSON object with keys: intent, entities (dict), confidence (0-1), notes.\n",
        "If unsure, pick the closest category and note uncertainty.\"\"\"\n",
        "    user = f\"\"\"Customer message:\n",
        "{ticket['message']}\n",
        "\n",
        "Return JSON only.\"\"\"\n",
        "    ticket[\"triage\"] = call_llm(system, user)\n",
        "    return ticket\n",
        "\n",
        "def step_2_collect_missing(ticket: Ticket) -> Ticket:\n",
        "    system = \"\"\"You are a polite airline support agent.\n",
        "Ask ONLY for the essential missing details to move the case forward.\n",
        "Keep it empathetic, ≤3 sentences. If requesting multiple items, use a single bullet list.\n",
        "Prefer airline terms (PNR/record locator, flight number, travel date, origin/destination).\"\"\"\n",
        "    user = f\"\"\"Known so far (from triage):\n",
        "{ticket['triage']}\n",
        "\n",
        "Based on this, ask the customer for any still-missing essentials (e.g., PNR, last name, flight number and date, origin/destination, baggage tag). Do not repeat info we already have.\"\"\"\n",
        "    ticket[\"followup_question\"] = call_llm(system, user)\n",
        "    return ticket\n",
        "\n",
        "def step_3_resolution(ticket: Ticket) -> Ticket:\n",
        "    system = \"\"\"You are an airline resolution specialist.\n",
        "Write a clear, courteous reply that:\n",
        "- Acknowledges the issue with empathy,\n",
        "- States the next concrete action(s) the airline can take or what will happen after receiving details,\n",
        "- Includes any important constraints (fare rules, refund timelines, baggage tracing steps) as brief plain-English notes,\n",
        "- Uses short paragraphs and, if helpful, one brief bullet list,\n",
        "- ≤140 words, no legalese, no internal jargon.\"\"\"\n",
        "    user = f\"\"\"Context:\n",
        "TRIAGE (JSON): {ticket['triage']}\n",
        "FOLLOW-UP ASK (if needed): {ticket['followup_question']}\n",
        "\n",
        "Draft a customer-facing reply suitable for airline customer service.\"\"\"\n",
        "    ticket[\"draft_reply\"] = call_llm(system, user)\n",
        "    return ticket\n",
        "\n",
        "def run_chain(customer_message: str) -> Ticket:\n",
        "    t = {\"received_at\": datetime.utcnow().isoformat(), \"message\": customer_message}\n",
        "    for step in (step_1_classify_intent, step_2_collect_missing, step_3_resolution):\n",
        "        t = step(t)\n",
        "    return t"
      ],
      "metadata": {
        "id": "k2Sy3oFER5Xz"
      },
      "execution_count": null,
      "outputs": []
    },
    {
      "cell_type": "code",
      "source": [
        "msg = \"\"\"Hi, I need to change my flight 145 on Oct 20 from SFO to JFK. My name is Tracy Do, and my PNR is 28TH7Z. Can you help me rebook to a later evening flight? Thank you.\"\"\"\n",
        "res = run_chain(msg)\n",
        "print(\"=== TRIAGE ===\\n\", res[\"triage\"], \"\\n\")\n",
        "print(\"=== FOLLOW-UP QUESTION ===\\n\", res[\"followup_question\"], \"\\n\")\n",
        "print(\"=== DRAFT REPLY ===\\n\", res[\"draft_reply\"])"
      ],
      "metadata": {
        "colab": {
          "base_uri": "https://localhost:8080/"
        },
        "id": "3ciQHHGhR7vW",
        "outputId": "653b1f24-7464-46ec-d458-5ebcb636c13e"
      },
      "execution_count": null,
      "outputs": [
        {
          "output_type": "stream",
          "name": "stderr",
          "text": [
            "/tmp/ipython-input-654895703.py:63: DeprecationWarning: datetime.datetime.utcnow() is deprecated and scheduled for removal in a future version. Use timezone-aware objects to represent datetimes in UTC: datetime.datetime.now(datetime.UTC).\n",
            "  t = {\"received_at\": datetime.utcnow().isoformat(), \"message\": customer_message}\n"
          ]
        },
        {
          "output_type": "stream",
          "name": "stdout",
          "text": [
            "=== TRIAGE ===\n",
            " {\n",
            "  \"intent\": \"change_itinerary\",\n",
            "  \"entities\": {\n",
            "    \"pnr\": \"28TH7Z\",\n",
            "    \"passenger_name\": \"Tracy Do\",\n",
            "    \"flight_number\": \"145\",\n",
            "    \"date\": \"2023-10-20\",\n",
            "    \"origin_airport\": \"SFO\",\n",
            "    \"destination_airport\": \"JFK\"\n",
            "  },\n",
            "  \"confidence\": 1,\n",
            "  \"notes\": \"\"\n",
            "} \n",
            "\n",
            "=== FOLLOW-UP QUESTION ===\n",
            " Thank you for reaching out, Tracy. To assist you with changing your itinerary, could you please provide the following details?\n",
            "\n",
            "- New travel date\n",
            "- New destination airport (if applicable) \n",
            "\n",
            "I appreciate your cooperation! \n",
            "\n",
            "=== DRAFT REPLY ===\n",
            " Dear Tracy,\n",
            "\n",
            "Thank you for reaching out regarding your itinerary change for flight 145 on October 20th. I understand how important it is to adjust your travel plans, and I'm here to help.\n",
            "\n",
            "To proceed with changing your itinerary, could you please provide the following details?\n",
            "\n",
            "- Your new travel date\n",
            "- Any new destination airport (if applicable)\n",
            "\n",
            "Once I have this information, I can assist you further. Please note that changes may be subject to fare rules and availability, and any applicable fees will be communicated to you.\n",
            "\n",
            "I appreciate your cooperation and look forward to assisting you!\n",
            "\n",
            "Best regards,  \n",
            "[Your Name]  \n",
            "Airline Customer Service\n"
          ]
        }
      ]
    }
  ]
}